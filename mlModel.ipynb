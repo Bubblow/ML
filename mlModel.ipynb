{
 "cells": [
  {
   "cell_type": "code",
   "execution_count": null,
   "metadata": {},
   "outputs": [
    {
     "ename": "",
     "evalue": "",
     "output_type": "error",
     "traceback": [
      "\u001b[1;31m'/Users/hansol/.pyenv/versions/3.9.6/bin/python'(으)로 셀을 실행하려면 ipykernel 패키지가 필요합니다.\n",
      "\u001b[1;31m다음 명령어를 실행하여 Python 환경에 'ipykernel'을(를) 설치합니다. \n",
      "\u001b[1;31m 명령: '/Users/hansol/.pyenv/versions/3.9.6/bin/python -m pip install ipykernel -U --force-reinstall'"
     ]
    }
   ],
   "source": [
    "import pandas as pd\n",
    "from sklearn.feature_extraction.text import TfidfVectorizer\n",
    "from sklearn.model_selection import train_test_split\n",
    "from lightgbm import LGBMClassifier\n",
    "from sklearn.metrics import classification_report\n",
    "from sklearn.metrics import accuracy_score"
   ]
  },
  {
   "cell_type": "code",
   "execution_count": null,
   "metadata": {},
   "outputs": [],
   "source": [
    "data = pd.read_csv('1_11최종_data.csv')\n",
    "data = data.dropna()"
   ]
  },
  {
   "cell_type": "code",
   "execution_count": null,
   "metadata": {},
   "outputs": [],
   "source": [
    "# 데이터 전처리\n",
    "X = data['제목'] + ' ' + data['내용']\n",
    "y = data['label']\n",
    "\n",
    "# TF-IDF 벡터화\n",
    "tfidf_vectorizer = TfidfVectorizer(max_features=5000)\n",
    "X_tfidf = tfidf_vectorizer.fit_transform(X)\n",
    "\n",
    "# 데이터 나누기\n",
    "X_train, X_test, y_train, y_test = train_test_split(X_tfidf, y, test_size=0.2, random_state=100)\n",
    "\n",
    "# LightGBM 모델 훈련\n",
    "lgbm_model = LGBMClassifier()\n",
    "lgbm_model.fit(X_train, y_train)\n",
    "\n",
    "# 모델 평가 및 임계값 설정\n",
    "y_pred_prob = lgbm_model.predict_proba(X_test)\n",
    "y_pred_custom = [1 if prob[1] > 0.525 else 2 if prob[1] >= 0.475 else 0 for prob in y_pred_prob]\n",
    "\n",
    "# Classification Report 출력\n",
    "class_report_custom = classification_report(y_test, y_pred_custom)\n",
    "print(\"Modified Classification Report:\\n\", class_report_custom)\n",
    "\n",
    "# 모델 예측\n",
    "y_pred = lgbm_model.predict(X_test)\n",
    "\n",
    "# 전체 정확도 계산\n",
    "accuracy = accuracy_score(y_test, y_pred)\n",
    "print(\"전체 정확도:\", accuracy)"
   ]
  },
  {
   "cell_type": "code",
   "execution_count": null,
   "metadata": {},
   "outputs": [],
   "source": [
    "import pickle\n",
    "\n",
    "# 모델과 벡터라이저를 하나의 딕셔너리 객체로 묶음\n",
    "model_and_vectorizer = {'model': lgbm_model, 'vectorizer': tfidf_vectorizer}\n",
    "\n",
    "# 딕셔너리 객체를 파일로 저장\n",
    "with open(\"model_and_vectorizer.dump\", \"wb\") as fw:\n",
    "    pickle.dump(model_vectorizer, fw)"
   ]
  }
 ],
 "metadata": {
  "kernelspec": {
   "display_name": "Python 3",
   "language": "python",
   "name": "python3"
  },
  "language_info": {
   "name": "python",
   "version": "3.9.6"
  }
 },
 "nbformat": 4,
 "nbformat_minor": 2
}
